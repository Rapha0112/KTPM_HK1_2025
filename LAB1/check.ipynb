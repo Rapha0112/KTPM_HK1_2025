{
 "cells": [
  {
   "cell_type": "code",
   "execution_count": null,
   "metadata": {},
   "outputs": [],
   "source": [
    "%%writefile tester.cpp\n",
    "#include <iostream>\n",
    "#include <cmath>\n",
    "using namespace std;\n",
    "\n",
    "int solveQuartic(double a, double b, double c, double x[]) {\n",
    "    if (a == 0 && b == 0 && c == 0) return -1; // vô số nghiệm\n",
    "    if (a == 0 && b == 0) return 0; // vô nghiệm\n",
    "\n",
    "    if (a == 0) { // b*x^2 + c = 0\n",
    "        double y = -c / b;\n",
    "        if (y < 0) return 0;\n",
    "        x[0] = sqrt(y);\n",
    "        x[1] = -sqrt(y);\n",
    "        return 2;\n",
    "    }\n",
    "\n",
    "    double delta = b*b - 4*a*c;\n",
    "    if (delta < 0) return 0;\n",
    "\n",
    "    double y1 = (-b + sqrt(delta)) / (2*a);\n",
    "    double y2 = (-b - sqrt(delta)) / (2*a);\n",
    "\n",
    "    int count = 0;\n",
    "    if (y1 >= 0) {\n",
    "        x[count++] = sqrt(y1);\n",
    "        x[count++] = -sqrt(y1);\n",
    "    }\n",
    "    if (y2 >= 0 && fabs(y2 - y1) > 1e-9) {\n",
    "        x[count++] = sqrt(y2);\n",
    "        x[count++] = -sqrt(y2);\n",
    "    }\n",
    "    return count;\n",
    "}\n",
    "\n",
    "void runTest(double a, double b, double c, string desc) {\n",
    "    double x[4];\n",
    "    int n = solveQuartic(a,b,c,x);\n",
    "\n",
    "    cout << desc << \" -> \";\n",
    "    if (n == -1) {\n",
    "        cout << \"infinite solutions\";\n",
    "    } else if (n == 0) {\n",
    "        cout << \"no solution\";\n",
    "    } else {\n",
    "        cout << n << \" solution(s): \";\n",
    "        for (int i=0;i<n;i++) cout << x[i] << \" \";\n",
    "    }\n",
    "    cout << endl;\n",
    "}\n",
    "\n",
    "int main() {\n",
    "    runTest(0,0,0, \"(0,0,0)\");\n",
    "    runTest(0,0,5, \"(0,0,5)\");\n",
    "    runTest(0,2,-8, \"(0,2,-8)\");\n",
    "    runTest(1,0,1, \"(1,0,1)\");\n",
    "    runTest(1,0,-1, \"(1,0,-1)\");\n",
    "    runTest(1,-5,4, \"(1,-5,4)\");\n",
    "    runTest(1,2,1, \"(1,2,1)\");\n",
    "    runTest(-1,1,0, \"(-1,1,0)\");\n",
    "    return 0;\n",
    "}\n"
   ]
  },
  {
   "cell_type": "code",
   "execution_count": null,
   "metadata": {},
   "outputs": [],
   "source": [
    "!g++ tester.cpp -o tester\n",
    "!./tester"
   ]
  }
 ],
 "metadata": {
  "kernelspec": {
   "display_name": "C++17",
   "language": "cpp",
   "name": "xcpp17"
  },
  "language_info": {
   "file_extension": ".cpp",
   "mime_type": "text/x-c++src",
   "name": "cpp",
   "version": "17"
  }
 },
 "nbformat": 4,
 "nbformat_minor": 5
}
